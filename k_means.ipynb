{
  "nbformat": 4,
  "nbformat_minor": 0,
  "metadata": {
    "colab": {
      "name": "k-means.ipynb",
      "provenance": [],
      "authorship_tag": "ABX9TyMDUK/D7XOqAn1NUSHx8H85",
      "include_colab_link": true
    },
    "kernelspec": {
      "name": "python3",
      "display_name": "Python 3"
    },
    "language_info": {
      "name": "python"
    }
  },
  "cells": [
    {
      "cell_type": "markdown",
      "metadata": {
        "id": "view-in-github",
        "colab_type": "text"
      },
      "source": [
        "<a href=\"https://colab.research.google.com/github/chilakalakavya566/DA-APSSDC/blob/master/k_means.ipynb\" target=\"_parent\"><img src=\"https://colab.research.google.com/assets/colab-badge.svg\" alt=\"Open In Colab\"/></a>"
      ]
    },
    {
      "cell_type": "markdown",
      "metadata": {
        "id": "K1j7EI_ahtuC"
      },
      "source": [
        "unsupervised learning\n",
        "clustering\n",
        "k-means algorithm"
      ]
    },
    {
      "cell_type": "code",
      "metadata": {
        "id": "J9pQk7johsPM"
      },
      "source": [
        "import numpy as np\n",
        "import pandas as pd\n",
        "import matplotlib.pyplot as plt"
      ],
      "execution_count": 2,
      "outputs": []
    },
    {
      "cell_type": "code",
      "metadata": {
        "colab": {
          "base_uri": "https://localhost:8080/",
          "height": 265
        },
        "id": "jbOOqb7qiVbH",
        "outputId": "651a664d-65f2-480f-eb2e-2ad011d0f0bf"
      },
      "source": [
        "x=[1,1.5,3,5,3.5,4.5,3.5]\n",
        "y=[1,2,4,7,5,5,4.5]\n",
        "plt.scatter(x,y)\n",
        "plt.show()"
      ],
      "execution_count": 3,
      "outputs": [
        {
          "output_type": "display_data",
          "data": {
            "image/png": "[encoded data removed]",
            "text/plain": [
              "<Figure size 432x288 with 1 Axes>"
            ]
          },
          "metadata": {
            "tags": [],
            "needs_background": "light"
          }
        }
      ]
    },
    {
      "cell_type": "markdown",
      "metadata": {
        "id": "zI8i2nyPjbco"
      },
      "source": [
        "### working on k-means\n",
        "- 1.randomly take k no of clusters(data points)\n",
        "- 2.calculate distance formula\n",
        "  - sqrt((x2-x1)^2+(y2-y1)^2)\n",
        "- 3.calculate new clusters\n",
        "- 4.divide into subgroups\n",
        "- 5.repeat same procedure"
      ]
    },
    {
      "cell_type": "code",
      "metadata": {
        "id": "5slfOrIOj84K"
      },
      "source": [
        "# sno x  y \n",
        "#------------\n",
        "# 1.  1   1\n",
        "# 2. 1.5  2\n",
        "#3.   3   4\n",
        "#4.   5   7\n",
        "#5.  3.5  5\n",
        "#6.  4.5  5\n",
        "#7.  3.5  4.5"
      ],
      "execution_count": 4,
      "outputs": []
    },
    {
      "cell_type": "code",
      "metadata": {
        "id": "dNHWnKL2knVW"
      },
      "source": [
        "## randomly k no of data points\n",
        "# k=2\n",
        "# a=(1,1) b=(5,7)\n",
        "#   x1,y1    x2,y2\n",
        "#calculate distnce formula\n"
      ],
      "execution_count": 5,
      "outputs": []
    },
    {
      "cell_type": "code",
      "metadata": {
        "id": "loPdy6DtlGV4"
      },
      "source": [
        "import math"
      ],
      "execution_count": 6,
      "outputs": []
    },
    {
      "cell_type": "code",
      "metadata": {
        "colab": {
          "base_uri": "https://localhost:8080/"
        },
        "id": "Sl1wkQlklIpm",
        "outputId": "10a82ac3-18ef-4a27-8f2e-c85a7fc699bd"
      },
      "source": [
        "#distance btw (1,1) (1,1)\n",
        "print(math.sqrt((1-1)**2+(1-1)**2))"
      ],
      "execution_count": 7,
      "outputs": [
        {
          "output_type": "stream",
          "text": [
            "0.0\n"
          ],
          "name": "stdout"
        }
      ]
    },
    {
      "cell_type": "code",
      "metadata": {
        "colab": {
          "base_uri": "https://localhost:8080/"
        },
        "id": "dcNZdkRyl54l",
        "outputId": "4fa98b0a-e730-40e7-cf10-7f43e9b54f9d"
      },
      "source": [
        "print(math.sqrt((5-1)**2+(7-1)**2)) # distance btw (1,1)and(5,7)"
      ],
      "execution_count": 8,
      "outputs": [
        {
          "output_type": "stream",
          "text": [
            "7.211102550927978\n"
          ],
          "name": "stdout"
        }
      ]
    },
    {
      "cell_type": "code",
      "metadata": {
        "colab": {
          "base_uri": "https://localhost:8080/"
        },
        "id": "L3G1rZp7mLR_",
        "outputId": "7114fab6-4271-409c-cc37-348c7b4127e9"
      },
      "source": [
        "#distance btw (1.5,2)(1,1) and (1.5,2)(5,7)\n",
        "print(math.sqrt((1.5-1)**2+(2-1)**2))\n",
        "print(math.sqrt((5-1.5)**2+(7-2)**2))"
      ],
      "execution_count": 10,
      "outputs": [
        {
          "output_type": "stream",
          "text": [
            "1.118033988749895\n",
            "6.103277807866851\n"
          ],
          "name": "stdout"
        }
      ]
    },
    {
      "cell_type": "code",
      "metadata": {
        "colab": {
          "base_uri": "https://localhost:8080/"
        },
        "id": "dq3MsonrnBSF",
        "outputId": "8d31de90-ef16-48cc-9b9a-36fc472482cb"
      },
      "source": [
        "#distance btw (3,4)(1,1)\n",
        "print(math.sqrt((3-1)**2+(4-1)**2))"
      ],
      "execution_count": 12,
      "outputs": [
        {
          "output_type": "stream",
          "text": [
            "3.605551275463989\n"
          ],
          "name": "stdout"
        }
      ]
    },
    {
      "cell_type": "code",
      "metadata": {
        "colab": {
          "base_uri": "https://localhost:8080/"
        },
        "id": "mhHIBwb3pvBc",
        "outputId": "68f82085-4aea-4788-ac45-222643df5d9f"
      },
      "source": [
        "#distance btw (3,4)(5,7)\n",
        "print(math.sqrt((5-3)**2+(7-4)**2))"
      ],
      "execution_count": 13,
      "outputs": [
        {
          "output_type": "stream",
          "text": [
            "3.605551275463989\n"
          ],
          "name": "stdout"
        }
      ]
    },
    {
      "cell_type": "code",
      "metadata": {
        "id": "WLJbtqDop60m"
      },
      "source": [
        "#updated values of x and y\n",
        "# sno  distance of a        distance of b\n",
        "#  1        0          <         7.211\n",
        "#  2        1.11       <         6.10\n",
        "#  3        3.60       =         3.60 # middle value\n",
        "#  4        7.21       >         0\n",
        "#  5        4.71       >         2.5\n",
        "#  6        5.31       >         2.06\n",
        "#  7        4.30       >         2.91\n",
        "#when we get equal values then we can divide into minimum and max clusters"
      ],
      "execution_count": 14,
      "outputs": []
    },
    {
      "cell_type": "code",
      "metadata": {
        "id": "41zPELVmrGja"
      },
      "source": [
        "# step3 calculate centeroids\n",
        "# cluster1\n",
        "#k1(x)={1,1.5,3} k1(y)={1,2,4}\n",
        "#find the mean\n"
      ],
      "execution_count": 15,
      "outputs": []
    },
    {
      "cell_type": "code",
      "metadata": {
        "colab": {
          "base_uri": "https://localhost:8080/"
        },
        "id": "TqhCgbiKsARl",
        "outputId": "c243ee62-df46-4a4b-d8d5-f55707e62949"
      },
      "source": [
        "k1=(1+1.5+3)/3\n",
        "k1"
      ],
      "execution_count": 17,
      "outputs": [
        {
          "output_type": "execute_result",
          "data": {
            "text/plain": [
              "1.8333333333333333"
            ]
          },
          "metadata": {
            "tags": []
          },
          "execution_count": 17
        }
      ]
    },
    {
      "cell_type": "code",
      "metadata": {
        "colab": {
          "base_uri": "https://localhost:8080/"
        },
        "id": "dVzlKXxSsMps",
        "outputId": "e8c9c596-837e-45bd-ab74-24363733dd0c"
      },
      "source": [
        "ky=(1+2+4)/3\n",
        "ky"
      ],
      "execution_count": 19,
      "outputs": [
        {
          "output_type": "execute_result",
          "data": {
            "text/plain": [
              "2.3333333333333335"
            ]
          },
          "metadata": {
            "tags": []
          },
          "execution_count": 19
        }
      ]
    },
    {
      "cell_type": "code",
      "metadata": {
        "id": "-U7o9ms0sYNa"
      },
      "source": [
        "k2=(5+3.5+4.5+3.5)/4"
      ],
      "execution_count": 20,
      "outputs": []
    },
    {
      "cell_type": "code",
      "metadata": {
        "colab": {
          "base_uri": "https://localhost:8080/"
        },
        "id": "Va8Jt2WYshGH",
        "outputId": "92c258c5-1c17-411e-c7ef-89978c18819e"
      },
      "source": [
        "k2"
      ],
      "execution_count": 21,
      "outputs": [
        {
          "output_type": "execute_result",
          "data": {
            "text/plain": [
              "4.125"
            ]
          },
          "metadata": {
            "tags": []
          },
          "execution_count": 21
        }
      ]
    },
    {
      "cell_type": "code",
      "metadata": {
        "colab": {
          "base_uri": "https://localhost:8080/"
        },
        "id": "ac4_nQUMsiDK",
        "outputId": "c4ae901c-0667-49e0-db67-1b7f18c1b405"
      },
      "source": [
        "k2y=(7+5+5+4.5)/4\n",
        "k2y"
      ],
      "execution_count": 22,
      "outputs": [
        {
          "output_type": "execute_result",
          "data": {
            "text/plain": [
              "5.375"
            ]
          },
          "metadata": {
            "tags": []
          },
          "execution_count": 22
        }
      ]
    },
    {
      "cell_type": "code",
      "metadata": {
        "id": "mYli3NoOsqJO"
      },
      "source": [
        "#updated  mean values\n",
        "# a=(1,1) b=(5,7)\n",
        "#a=(1.83,2.33) b=(4.12,5.37)"
      ],
      "execution_count": 23,
      "outputs": []
    },
    {
      "cell_type": "code",
      "metadata": {
        "id": "t4pEDFqdtbWS"
      },
      "source": [
        "from sklearn.datasets import load_iris"
      ],
      "execution_count": 24,
      "outputs": []
    },
    {
      "cell_type": "code",
      "metadata": {
        "id": "RZEv5K9pthse"
      },
      "source": [
        "iris=load_iris()"
      ],
      "execution_count": 25,
      "outputs": []
    },
    {
      "cell_type": "code",
      "metadata": {
        "id": "MkoDjHPhtnOd"
      },
      "source": [
        "x=iris.data"
      ],
      "execution_count": 26,
      "outputs": []
    },
    {
      "cell_type": "code",
      "metadata": {
        "id": "fGfzxfyotpnJ"
      },
      "source": [
        "x"
      ],
      "execution_count": null,
      "outputs": []
    },
    {
      "cell_type": "code",
      "metadata": {
        "id": "sdSVzgOttp81"
      },
      "source": [
        "from sklearn.cluster import KMeans"
      ],
      "execution_count": 29,
      "outputs": []
    },
    {
      "cell_type": "code",
      "metadata": {
        "id": "2PcUknuFt4uu"
      },
      "source": [
        "kmeans=KMeans(n_clusters = 5)"
      ],
      "execution_count": 30,
      "outputs": []
    },
    {
      "cell_type": "code",
      "metadata": {
        "colab": {
          "base_uri": "https://localhost:8080/"
        },
        "id": "QcSoRcHzuST0",
        "outputId": "b90f0e06-366c-4032-cc2e-d658706c86ed"
      },
      "source": [
        "kmeans"
      ],
      "execution_count": 32,
      "outputs": [
        {
          "output_type": "execute_result",
          "data": {
            "text/plain": [
              "KMeans(algorithm='auto', copy_x=True, init='k-means++', max_iter=300,\n",
              "       n_clusters=5, n_init=10, n_jobs=None, precompute_distances='auto',\n",
              "       random_state=None, tol=0.0001, verbose=0)"
            ]
          },
          "metadata": {
            "tags": []
          },
          "execution_count": 32
        }
      ]
    },
    {
      "cell_type": "code",
      "metadata": {
        "id": "Jvmr3SBxuUqK"
      },
      "source": [
        "y_kmeans = kmeans.fit_predict(x)"
      ],
      "execution_count": 33,
      "outputs": []
    },
    {
      "cell_type": "code",
      "metadata": {
        "colab": {
          "base_uri": "https://localhost:8080/"
        },
        "id": "oQKXlIdUuvvU",
        "outputId": "ec902042-a811-4ea0-b92f-2f0040b013ac"
      },
      "source": [
        "y_kmeans"
      ],
      "execution_count": 34,
      "outputs": [
        {
          "output_type": "execute_result",
          "data": {
            "text/plain": [
              "array([0, 0, 0, 0, 0, 0, 0, 0, 0, 0, 0, 0, 0, 0, 0, 0, 0, 0, 0, 0, 0, 0,\n",
              "       0, 0, 0, 0, 0, 0, 0, 0, 0, 0, 0, 0, 0, 0, 0, 0, 0, 0, 0, 0, 0, 0,\n",
              "       0, 0, 0, 0, 0, 0, 1, 1, 1, 3, 1, 1, 1, 3, 1, 3, 3, 1, 3, 1, 3, 1,\n",
              "       1, 3, 1, 3, 1, 3, 1, 1, 1, 1, 1, 1, 1, 3, 3, 3, 3, 1, 3, 1, 1, 1,\n",
              "       3, 3, 3, 1, 3, 3, 3, 3, 3, 1, 3, 3, 4, 1, 2, 4, 4, 2, 3, 2, 4, 2,\n",
              "       4, 4, 4, 1, 4, 4, 4, 2, 2, 1, 4, 1, 2, 1, 4, 2, 1, 1, 4, 2, 2, 2,\n",
              "       4, 1, 1, 2, 4, 4, 1, 4, 4, 4, 1, 4, 4, 4, 1, 4, 4, 1], dtype=int32)"
            ]
          },
          "metadata": {
            "tags": []
          },
          "execution_count": 34
        }
      ]
    },
    {
      "cell_type": "code",
      "metadata": {
        "colab": {
          "base_uri": "https://localhost:8080/",
          "height": 265
        },
        "id": "joE-JgPeuytM",
        "outputId": "6a16d28d-c02a-4fe8-d70f-098bb89dd484"
      },
      "source": [
        "# using elbow method\n",
        "error = []\n",
        "for i in range (1,11):\n",
        "  kmean = KMeans(n_clusters = i)\n",
        "  kmean.fit(x)\n",
        "  error.append(kmean.inertia_)\n",
        "plt.plot(range(1,11),error)\n",
        "plt.show()"
      ],
      "execution_count": 35,
      "outputs": [
        {
          "output_type": "display_data",
          "data": {
            "image/png": "[encoded data removed]",
            "text/plain": [
              "<Figure size 432x288 with 1 Axes>"
            ]
          },
          "metadata": {
            "tags": [],
            "needs_background": "light"
          }
        }
      ]
    },
    {
      "cell_type": "code",
      "metadata": {
        "id": "cdU2Gnulvy25"
      },
      "source": [
        "from sklearn.cluster import KMeans\n",
        "kmean3 =  KMeans(n_clusters=3)"
      ],
      "execution_count": 36,
      "outputs": []
    },
    {
      "cell_type": "code",
      "metadata": {
        "colab": {
          "base_uri": "https://localhost:8080/"
        },
        "id": "XJGOjcuswbP5",
        "outputId": "76c4c0ea-042f-4832-b481-ef2da846ee25"
      },
      "source": [
        "y_kmean3 =kmean3.fit_predict(x)\n",
        "y_kmean3"
      ],
      "execution_count": 38,
      "outputs": [
        {
          "output_type": "execute_result",
          "data": {
            "text/plain": [
              "array([1, 1, 1, 1, 1, 1, 1, 1, 1, 1, 1, 1, 1, 1, 1, 1, 1, 1, 1, 1, 1, 1,\n",
              "       1, 1, 1, 1, 1, 1, 1, 1, 1, 1, 1, 1, 1, 1, 1, 1, 1, 1, 1, 1, 1, 1,\n",
              "       1, 1, 1, 1, 1, 1, 0, 0, 2, 0, 0, 0, 0, 0, 0, 0, 0, 0, 0, 0, 0, 0,\n",
              "       0, 0, 0, 0, 0, 0, 0, 0, 0, 0, 0, 2, 0, 0, 0, 0, 0, 0, 0, 0, 0, 0,\n",
              "       0, 0, 0, 0, 0, 0, 0, 0, 0, 0, 0, 0, 2, 0, 2, 2, 2, 2, 0, 2, 2, 2,\n",
              "       2, 2, 2, 0, 0, 2, 2, 2, 2, 0, 2, 0, 2, 0, 2, 2, 0, 0, 2, 2, 2, 2,\n",
              "       2, 0, 2, 2, 2, 2, 0, 2, 2, 2, 0, 2, 2, 2, 0, 2, 2, 0], dtype=int32)"
            ]
          },
          "metadata": {
            "tags": []
          },
          "execution_count": 38
        }
      ]
    },
    {
      "cell_type": "code",
      "metadata": {
        "id": "aSAh31Ytwi8l"
      },
      "source": [
        ""
      ],
      "execution_count": null,
      "outputs": []
    },
    {
      "cell_type": "code",
      "metadata": {
        "id": "SOo0g70LxD0n"
      },
      "source": [
        ""
      ],
      "execution_count": null,
      "outputs": []
    }
  ]
}